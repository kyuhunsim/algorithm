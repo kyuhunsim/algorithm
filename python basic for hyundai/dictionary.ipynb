{
 "cells": [
  {
   "cell_type": "code",
   "execution_count": 2,
   "metadata": {},
   "outputs": [
    {
     "name": "stdout",
     "output_type": "stream",
     "text": [
      "{1: [(3, 2)], 2: [(4, 4)], 3: [(1, 2), (4, 3)], 4: [(2, 4), (3, 3), (5, 6)], 5: [(4, 6)]}\n"
     ]
    }
   ],
   "source": [
    "v=int(input())\n",
    "ls=[]\n",
    "tree = {}\n",
    "\n",
    "# V개의 줄에 걸쳐 간선 정보를 입력받습니다.\n",
    "for _ in range(v):\n",
    "    data = list(map(int, input().split()))\n",
    "    node = data[0]  # 첫 번째 값은 정점 번호\n",
    "\n",
    "    if node not in tree:\n",
    "        tree[node] = []  # 정점 번호가 아직 딕셔너리에 없으면 빈 리스트로 초기화\n",
    "\n",
    "    index = 1\n",
    "    while data[index] != -1:  # -1이 나오기 전까지 간선 정보 읽기\n",
    "        connected_node = data[index]\n",
    "        distance = data[index + 1]\n",
    "        tree[node].append((connected_node, distance))\n",
    "        index += 2  # 두 개씩 묶어서 읽었으므로 index를 2 증가시킴\n",
    "print(tree)"
   ]
  },
  {
   "cell_type": "code",
   "execution_count": 3,
   "metadata": {},
   "outputs": [
    {
     "data": {
      "text/plain": [
       "{1: [(3, 2)],\n",
       " 2: [(4, 4)],\n",
       " 3: [(1, 2), (4, 3)],\n",
       " 4: [(2, 4), (3, 3), (5, 6)],\n",
       " 5: [(4, 6)]}"
      ]
     },
     "execution_count": 3,
     "metadata": {},
     "output_type": "execute_result"
    }
   ],
   "source": [
    "tree"
   ]
  },
  {
   "cell_type": "code",
   "execution_count": null,
   "metadata": {},
   "outputs": [],
   "source": []
  },
  {
   "cell_type": "code",
   "execution_count": 4,
   "metadata": {},
   "outputs": [
    {
     "data": {
      "text/plain": [
       "[(3, 2)]"
      ]
     },
     "execution_count": 4,
     "metadata": {},
     "output_type": "execute_result"
    }
   ],
   "source": [
    "tree.get(1)"
   ]
  },
  {
   "cell_type": "code",
   "execution_count": 10,
   "metadata": {},
   "outputs": [
    {
     "data": {
      "text/plain": [
       "[(3, 2)]"
      ]
     },
     "execution_count": 10,
     "metadata": {},
     "output_type": "execute_result"
    }
   ],
   "source": [
    "tree[1]"
   ]
  },
  {
   "cell_type": "code",
   "execution_count": 12,
   "metadata": {},
   "outputs": [
    {
     "name": "stdout",
     "output_type": "stream",
     "text": [
      "3 2\n",
      "4 4\n",
      "1 2\n",
      "4 3\n",
      "2 4\n",
      "3 3\n",
      "5 6\n"
     ]
    }
   ],
   "source": [
    "for i in range(len(tree)):\n",
    "    for neighbor, distance in tree.get(i, []):\n",
    "        print(neighbor,distance)"
   ]
  },
  {
   "cell_type": "code",
   "execution_count": 8,
   "metadata": {},
   "outputs": [
    {
     "name": "stdout",
     "output_type": "stream",
     "text": [
      "({1, 2, 3, 4, 5}, [1, 3, 4, 5, 2])\n"
     ]
    }
   ],
   "source": [
    "start_node = 1\n",
    "tree = {1: [(3, 2)], 2: [(4, 4)], 3: [(1, 2), (4, 3)],\n",
    "        4: [(2, 4), (3, 3), (5, 6)], 5: [(4, 6)]}\n",
    "\n",
    "def dfs(tree, start_node):\n",
    "    visited = set()  # 방문한 노드를 저장할 집합\n",
    "    order = []\n",
    "    stack = [start_node]  # 시작 노드를 스택에 넣음\n",
    "\n",
    "    while stack:\n",
    "        node = stack.pop()  # 스택에서 노드를 꺼냄\n",
    "        if node not in visited:\n",
    "            visited.add(node)  # 방문한 노드로 기록\n",
    "            # 이웃 노드들을 스택에 추가\n",
    "            order.append(node)\n",
    "            for neighbor, distance in tree[node]:\n",
    "                if neighbor not in visited:\n",
    "                    stack.append(neighbor)\n",
    "\n",
    "    return visited, order  # 방문한 노드들을 반환\n",
    "\n",
    "# DFS 실행\n",
    "result = dfs(tree, start_node)\n",
    "print(result)"
   ]
  },
  {
   "cell_type": "code",
   "execution_count": null,
   "metadata": {},
   "outputs": [],
   "source": []
  }
 ],
 "metadata": {
  "kernelspec": {
   "display_name": "Python 3",
   "language": "python",
   "name": "python3"
  },
  "language_info": {
   "codemirror_mode": {
    "name": "ipython",
    "version": 3
   },
   "file_extension": ".py",
   "mimetype": "text/x-python",
   "name": "python",
   "nbconvert_exporter": "python",
   "pygments_lexer": "ipython3",
   "version": "3.12.3"
  }
 },
 "nbformat": 4,
 "nbformat_minor": 2
}
